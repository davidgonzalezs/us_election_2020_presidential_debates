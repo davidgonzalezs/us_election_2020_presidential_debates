{
 "cells": [
  {
   "cell_type": "code",
   "execution_count": 0,
   "metadata": {
    "application/vnd.databricks.v1+cell": {
     "cellMetadata": {
      "byteLimit": 2048000,
      "rowLimit": 10000
     },
     "inputWidgets": {},
     "nuid": "cb863199-b3be-482a-b630-e3df93d14f6e",
     "showTitle": false,
     "tableResultSettingsMap": {},
     "title": ""
    }
   },
   "outputs": [],
   "source": [
    "#Inicio Spark session\n",
    "from pyspark.sql import SparkSession\n",
    "\n",
    "spark = SparkSession.builder \\\n",
    "    .appName(\"Debate2020Analysis\") \\\n",
    "    .getOrCreate()"
   ]
  },
  {
   "cell_type": "code",
   "execution_count": 0,
   "metadata": {
    "application/vnd.databricks.v1+cell": {
     "cellMetadata": {
      "byteLimit": 2048000,
      "rowLimit": 10000
     },
     "inputWidgets": {},
     "nuid": "acbd15e5-a34a-4ae4-abe2-c08ec129e107",
     "showTitle": false,
     "tableResultSettingsMap": {},
     "title": ""
    }
   },
   "outputs": [],
   "source": [
    "# upload file to DBFS\n",
    "# dbutils.fs.cp('C:\\Users\\David\\Desktop\\Repositorios_Git\\DataSets\\us_election_2020_presidential_debates\\archive\\us_election_2020_1st_presidential_debate.txt', 'dbfs:/FileStore/tables/us_election_2020_1st_presidential_debate.txt')\n",
    "\n",
    "#Lectura TXT como RDD de líneas\n",
    "rdd = spark.sparkContext.textFile(\"/FileStore/shared_uploads/dmgs16@hotmail.com/us_election_2020_1st_presidential_debate.txt\")\n"
   ]
  },
  {
   "cell_type": "code",
   "execution_count": 0,
   "metadata": {
    "application/vnd.databricks.v1+cell": {
     "cellMetadata": {
      "byteLimit": 2048000,
      "rowLimit": 10000
     },
     "inputWidgets": {},
     "nuid": "86a49f9b-5c76-4077-bca8-87c3ceef1581",
     "showTitle": false,
     "tableResultSettingsMap": {},
     "title": ""
    }
   },
   "outputs": [],
   "source": [
    "import re\n",
    "# Paso 2: Agrupar bloques (speaker + texto)\n",
    "def group_speaker_blocks(lines):\n",
    "    result = []\n",
    "    current_speaker = None\n",
    "    current_time = None\n",
    "    current_text = []\n",
    "\n",
    "    for line in lines:\n",
    "        match = re.match(r\"^(.*?):\\s*\\((\\d{2}:\\d{2})\\)\", line)\n",
    "        if match:\n",
    "            # Si ya había un bloque anterior, lo guardamos\n",
    "            if current_speaker:\n",
    "                result.append((current_speaker, current_time, \" \".join(current_text)))\n",
    "            current_speaker = match.group(1)\n",
    "            current_time = match.group(2)\n",
    "            current_text = [line[match.end():].strip()]  # parte después del timestamp\n",
    "        else:\n",
    "            if current_speaker:\n",
    "                current_text.append(line.strip())\n",
    "\n",
    "    # Añadir el último bloque\n",
    "    if current_speaker:\n",
    "        result.append((current_speaker, current_time, \"\".join(current_text)))\n",
    "\n",
    "    return result\n",
    "\n"
   ]
  },
  {
   "cell_type": "code",
   "execution_count": 0,
   "metadata": {
    "application/vnd.databricks.v1+cell": {
     "cellMetadata": {
      "byteLimit": 2048000,
      "rowLimit": 10000
     },
     "inputWidgets": {},
     "nuid": "275f16c3-5cfc-4b39-b986-5a48bd27ad45",
     "showTitle": false,
     "tableResultSettingsMap": {},
     "title": ""
    }
   },
   "outputs": [
    {
     "output_type": "display_data",
     "data": {
      "text/plain": [
       "\u001B[0;31m---------------------------------------------------------------------------\u001B[0m\n",
       "\u001B[0;31mAttributeError\u001B[0m                            Traceback (most recent call last)\n",
       "File \u001B[0;32m<command-3451784740362237>, line 9\u001B[0m\n",
       "\u001B[1;32m      7\u001B[0m \u001B[38;5;66;03m# Mostramos los primeros 5 bloques de formato (SPEAKER, TIME, TEXT)\u001B[39;00m\n",
       "\u001B[1;32m      8\u001B[0m parsed_rdd\u001B[38;5;241m.\u001B[39mtake(\u001B[38;5;241m10\u001B[39m)\n",
       "\u001B[0;32m----> 9\u001B[0m grouped_data\u001B[38;5;241m.\u001B[39mtake(\u001B[38;5;241m10\u001B[39m)\n",
       "\n",
       "\u001B[0;31mAttributeError\u001B[0m: 'list' object has no attribute 'take'"
      ]
     },
     "metadata": {
      "application/vnd.databricks.v1+output": {
       "arguments": {},
       "data": "\u001B[0;31m---------------------------------------------------------------------------\u001B[0m\n\u001B[0;31mAttributeError\u001B[0m                            Traceback (most recent call last)\nFile \u001B[0;32m<command-3451784740362237>, line 9\u001B[0m\n\u001B[1;32m      7\u001B[0m \u001B[38;5;66;03m# Mostramos los primeros 5 bloques de formato (SPEAKER, TIME, TEXT)\u001B[39;00m\n\u001B[1;32m      8\u001B[0m parsed_rdd\u001B[38;5;241m.\u001B[39mtake(\u001B[38;5;241m10\u001B[39m)\n\u001B[0;32m----> 9\u001B[0m grouped_data\u001B[38;5;241m.\u001B[39mtake(\u001B[38;5;241m10\u001B[39m)\n\n\u001B[0;31mAttributeError\u001B[0m: 'list' object has no attribute 'take'",
       "errorSummary": "<span class='ansi-red-fg'>AttributeError</span>: 'list' object has no attribute 'take'",
       "errorTraceType": "ansi",
       "metadata": {},
       "type": "ipynbError"
      }
     },
     "output_type": "display_data"
    }
   ],
   "source": [
    "# Paso 4: Aplicarlo en driver (collect primero para procesarlo como lista)\n",
    "grouped_data = group_speaker_blocks(rdd.collect())\n",
    "\n",
    "# Paso 5: Crear un RDD con los bloques\n",
    "parsed_rdd = sc.parallelize(grouped_data)\n",
    "\n",
    "# Mostramos los primeros 5 bloques de formato (SPEAKER, TIME, TEXT)\n",
    "parsed_rdd.take(10)\n"
   ]
  },
  {
   "cell_type": "code",
   "execution_count": 0,
   "metadata": {
    "application/vnd.databricks.v1+cell": {
     "cellMetadata": {
      "byteLimit": 2048000,
      "rowLimit": 10000
     },
     "inputWidgets": {},
     "nuid": "87d077a5-c85e-47e7-8f45-5d79b9ab4b2f",
     "showTitle": false,
     "tableResultSettingsMap": {},
     "title": ""
    }
   },
   "outputs": [],
   "source": [
    "stopwords = set([\n",
    "    \"this\", \"that\", \"what\", \"which\", \"with\", \"have\", \"from\", \"would\", \"could\", \n",
    "    \"should\", \"their\", \"there\", \"about\", \"because\", \"before\", \"after\", \"over\",\n",
    "    \"under\", \"again\", \"some\", \"them\", \"been\", \"being\", \"then\", \"than\",\n",
    "    \"themselves\", \"does\", \"did\", \"doing\", \"into\", \"just\", \"a\", \"an\", \"the\",\n",
    "    \"more\", \"most\", \"other\", \"out\", \"such\", \"too\", \"very\", \"where\", \"when\", \n",
    "    \"how\", \"who\", \"whom\", \"whose\", \"why\", \"also\", \"only\", \"every\", \"much\",\n",
    "    \"many\", \"each\", \"same\", \"own\", \"any\", \"both\", \"few\", \"while\", \"though\",\n",
    "    \"through\", \"against\", \"among\", \"those\", \"etc\", \"like\", \"even\", \"still\",\n",
    "    \"in\", \"on\", \"at\", \"by\", \"for\", \"with\", \"about\", \"against\", \"between\", \"into\", \"through\", \"during\", \"before\", \"after\", \"above\", \"below\", \"to\", \"from\", \"up\", \"down\", \"out\", \"off\", \"over\", \"under\",\n",
    "    \"are\", \"be\",\"is\",\"of\", \"but\", \"it\", \"if\",\"was\",\"were\", \"and\",\n",
    "    \"I\", \"i\",\"you\", \"he\", \"she\", \"it\", \"we\", \"they\", \"me\", \"him\", \"her\", \"us\", \"them\", \"my\", \"your\", \"his\", \"her\", \"its\", \"our\", \"their\", \"mine\", \"yours\", \"hers\", \"ours\", \"theirs\", \"myself\", \"yourself\", \"himself\", \"herself\", \"itself\", \"ourselves\", \"yourselves\", \"themselves\", \"who\", \"whom\", \"whose\", \"which\", \"that\", \"anyone\", \"anybody\", \"someone\", \"somebody\", \"everyone\", \"everybody\", \"no one\", \"nobody\", \"each\", \"either\", \"neither\", \"none\", \"one\", \"another\", \"others\", \"everything\", \"something\", \"nothing\", \"anything\", \"not\", \"no\", \"as\", \"so\",\"all\"\n",
    "\n",
    "])"
   ]
  },
  {
   "cell_type": "code",
   "execution_count": 0,
   "metadata": {
    "application/vnd.databricks.v1+cell": {
     "cellMetadata": {
      "byteLimit": 2048000,
      "rowLimit": 10000
     },
     "inputWidgets": {},
     "nuid": "014af42b-830a-49c4-977b-88c06d354b0a",
     "showTitle": false,
     "tableResultSettingsMap": {},
     "title": ""
    }
   },
   "outputs": [
    {
     "output_type": "execute_result",
     "data": {
      "text/plain": [
       "[('Chris Wallace',\n",
       "  '01:20',\n",
       "  'Good evening Health Education Campus Case Western Reserve University Cleveland Chris Wallace Fox News welcome first Presidential Debates President Donald Trump former Vice President Joe debate sponsored Commission Presidential Commission has designed six roughly minute segments two minute answers candidate first open discussion rest campaigns agreed these decided topics questions can assure questions has shared Commission or two'),\n",
       " ('Chris Wallace',\n",
       "  '02:10',\n",
       "  'debate conducted health safety protocols designed Cleveland serving Health Security advisor Commission four campaigns agreed candidates will shake hands beginning audience here hall has promised remain or interruptions importantly can focus candidates noise except right welcome Republican President Democratic nominee Vice President'),\n",
       " ('Vice President Joe Biden', '02:49', ''),\n",
       " ('President Donald J. Trump', '02:51', ''),\n",
       " ('Vice President Joe Biden', '02:51', '')]"
      ]
     },
     "execution_count": 34,
     "metadata": {},
     "output_type": "execute_result"
    }
   ],
   "source": [
    "def filter_short_words(record):\n",
    "    speaker, time, text = record\n",
    "    # Filtramos palabras de lista stopwords\n",
    "    words = [word for word in text.split() if word.isalpha() and word.lower() not in stopwords]\n",
    "    # Reconstruimos el texto limpio\n",
    "    clean_text = \" \".join(words)\n",
    "    return (speaker, time, clean_text)\n",
    "\n",
    "# Aplicamos el filtrado al RDD\n",
    "filtered_rdd = parsed_rdd.map(filter_short_words)\n",
    "\n",
    "# Ejemplo de impresión\n",
    "filtered_rdd.take(5)\n"
   ]
  },
  {
   "cell_type": "code",
   "execution_count": 0,
   "metadata": {
    "application/vnd.databricks.v1+cell": {
     "cellMetadata": {
      "byteLimit": 2048000,
      "rowLimit": 10000
     },
     "inputWidgets": {},
     "nuid": "02878900-2bd7-4fc5-b235-3ec7ebff86a5",
     "showTitle": false,
     "tableResultSettingsMap": {},
     "title": ""
    }
   },
   "outputs": [
    {
     "output_type": "execute_result",
     "data": {
      "text/plain": [
       "[(('Chris Wallace', 'wallace'), 1),\n",
       " (('Chris Wallace', 'fox'), 1),\n",
       " (('Chris Wallace', 'welcome'), 2),\n",
       " (('Chris Wallace', 'debates'), 3),\n",
       " (('Chris Wallace', 'joe'), 11),\n",
       " (('Chris Wallace', 'sponsored'), 2),\n",
       " (('Chris Wallace', 'has'), 15),\n",
       " (('Chris Wallace', 'safety'), 1),\n",
       " (('Chris Wallace', 'protocols'), 1),\n",
       " (('Chris Wallace', 'hands'), 1)]"
      ]
     },
     "execution_count": 35,
     "metadata": {},
     "output_type": "execute_result"
    }
   ],
   "source": [
    "# Paso 1: crear pares ((speaker, word), 1)\n",
    "word_pairs_rdd = filtered_rdd.flatMap(\n",
    "    lambda record: [((record[0], word.lower()), 1) for word in record[2].split()]\n",
    ")\n",
    "# Paso 2: Reducir por clave (speaker, word)\n",
    "word_counts_rdd = word_pairs_rdd.reduceByKey(lambda a, b: a + b)\n",
    "\n",
    "word_counts_rdd.take(10)"
   ]
  },
  {
   "cell_type": "code",
   "execution_count": 0,
   "metadata": {
    "application/vnd.databricks.v1+cell": {
     "cellMetadata": {
      "byteLimit": 2048000,
      "rowLimit": 10000
     },
     "inputWidgets": {},
     "nuid": "128e6748-4117-46c4-82e7-8a82d6b3b3cb",
     "showTitle": false,
     "tableResultSettingsMap": {},
     "title": ""
    }
   },
   "outputs": [],
   "source": [
    "# Paso 3: reorganizar como (speaker, (word, count))\n",
    "grouped_by_speaker_rdd = word_counts_rdd.map(\n",
    "    lambda pair: (pair[0][0], (pair[0][1], pair[1]))\n",
    ")\n",
    "\n",
    "# Agrupar todas las palabras por speaker\n",
    "speaker_word_list_rdd = grouped_by_speaker_rdd.groupByKey().mapValues(list)\n"
   ]
  },
  {
   "cell_type": "code",
   "execution_count": 0,
   "metadata": {
    "application/vnd.databricks.v1+cell": {
     "cellMetadata": {
      "byteLimit": 2048000,
      "rowLimit": 10000
     },
     "inputWidgets": {},
     "nuid": "84bc7bc0-9696-4ed6-badc-b6d294cd9366",
     "showTitle": false,
     "tableResultSettingsMap": {},
     "title": ""
    }
   },
   "outputs": [],
   "source": [
    "top_20_words_per_speaker = speaker_word_list_rdd.mapValues(\n",
    "    lambda word_counts: sorted(word_counts, key=lambda x: x[1], reverse=True)[:20]\n",
    ")"
   ]
  },
  {
   "cell_type": "code",
   "execution_count": 0,
   "metadata": {
    "application/vnd.databricks.v1+cell": {
     "cellMetadata": {
      "byteLimit": 2048000,
      "rowLimit": 10000
     },
     "inputWidgets": {},
     "nuid": "1921fa01-fa5d-4f1f-b3a2-4441507d7bf4",
     "showTitle": false,
     "tableResultSettingsMap": {},
     "title": ""
    }
   },
   "outputs": [
    {
     "output_type": "stream",
     "name": "stdout",
     "output_type": "stream",
     "text": [
      "\nChris Wallace:\n  president: 73\n  going: 63\n  vice: 37\n  go: 34\n  do: 31\n  donald: 30\n  two: 28\n  want: 27\n  will: 27\n  let: 24\n  people: 22\n  question: 22\n  ballots: 18\n  say: 17\n  or: 16\n  has: 15\n  can: 14\n  think: 14\n  end: 14\n  election: 13\n\nPresident Donald J. Trump:\n  people: 50\n  want: 37\n  going: 34\n  do: 33\n  said: 30\n  know: 29\n  had: 27\n  got: 27\n  look: 25\n  think: 22\n  done: 19\n  say: 18\n  tell: 17\n  million: 16\n  never: 16\n  three: 16\n  law: 15\n  will: 15\n  let: 15\n  go: 14\n\nVice President Joe Biden:\n  people: 61\n  going: 45\n  has: 24\n  get: 23\n  do: 23\n  fact: 19\n  number: 18\n  take: 17\n  can: 16\n  way: 15\n  make: 15\n  tax: 15\n  look: 14\n  will: 13\n  got: 13\n  know: 13\n  want: 13\n  sure: 12\n  american: 12\n  now: 12\n"
     ]
    }
   ],
   "source": [
    "for speaker, top_words in top_20_words_per_speaker.collect():\n",
    "    print(f\"\\n{speaker}:\\n\" + \"\\n\".join([f\"  {word}: {count}\" for word, count in top_words]))"
   ]
  },
  {
   "cell_type": "code",
   "execution_count": 0,
   "metadata": {
    "application/vnd.databricks.v1+cell": {
     "cellMetadata": {
      "byteLimit": 2048000,
      "rowLimit": 10000
     },
     "inputWidgets": {},
     "nuid": "a758de56-4b10-4d0e-b21a-f8ab7c3bfce9",
     "showTitle": false,
     "tableResultSettingsMap": {},
     "title": ""
    }
   },
   "outputs": [],
   "source": [
    "#Graficas\n",
    "\n",
    "from pyspark.sql import Row\n",
    "\n",
    "# Aplanamos los datos\n",
    "flattened = top_10_words_per_speaker.flatMap(lambda x: [Row(speaker=x[0], word=w[0], count=w[1]) for w in x[1]])\n",
    "\n",
    "df = spark.createDataFrame(flattened)\n",
    "df_chris = df.filter(df['speaker']=='Chris Wallace')\n",
    "df_trump= df.filter(df['speaker']=='President Donald J. Trump')\n",
    "df_biden= df.filter(df['speaker']=='Vice President Joe Biden')\n"
   ]
  },
  {
   "cell_type": "code",
   "execution_count": 0,
   "metadata": {
    "application/vnd.databricks.v1+cell": {
     "cellMetadata": {
      "byteLimit": 2048000,
      "rowLimit": 10000
     },
     "inputWidgets": {},
     "nuid": "73d603c9-5c27-454e-a74e-d3cd52b667f7",
     "showTitle": false,
     "tableResultSettingsMap": {},
     "title": ""
    }
   },
   "outputs": [
    {
     "output_type": "display_data",
     "data": {
      "text/html": [
       "<style scoped>\n",
       "  .table-result-container {\n",
       "    max-height: 300px;\n",
       "    overflow: auto;\n",
       "  }\n",
       "  table, th, td {\n",
       "    border: 1px solid black;\n",
       "    border-collapse: collapse;\n",
       "  }\n",
       "  th, td {\n",
       "    padding: 5px;\n",
       "  }\n",
       "  th {\n",
       "    text-align: left;\n",
       "  }\n",
       "</style><div class='table-result-container'><table class='table-result'><thead style='background-color: white'><tr><th>speaker</th><th>word</th><th>count</th></tr></thead><tbody><tr><td>Chris Wallace</td><td>president</td><td>73</td></tr><tr><td>Chris Wallace</td><td>going</td><td>63</td></tr><tr><td>Chris Wallace</td><td>vice</td><td>37</td></tr><tr><td>Chris Wallace</td><td>go</td><td>34</td></tr><tr><td>Chris Wallace</td><td>do</td><td>31</td></tr><tr><td>Chris Wallace</td><td>donald</td><td>30</td></tr><tr><td>Chris Wallace</td><td>two</td><td>28</td></tr><tr><td>Chris Wallace</td><td>want</td><td>27</td></tr><tr><td>Chris Wallace</td><td>will</td><td>27</td></tr><tr><td>Chris Wallace</td><td>let</td><td>24</td></tr><tr><td>Chris Wallace</td><td>people</td><td>22</td></tr><tr><td>Chris Wallace</td><td>question</td><td>22</td></tr><tr><td>Chris Wallace</td><td>ballots</td><td>18</td></tr><tr><td>Chris Wallace</td><td>say</td><td>17</td></tr><tr><td>Chris Wallace</td><td>or</td><td>16</td></tr><tr><td>Chris Wallace</td><td>has</td><td>15</td></tr><tr><td>Chris Wallace</td><td>can</td><td>14</td></tr><tr><td>Chris Wallace</td><td>think</td><td>14</td></tr><tr><td>Chris Wallace</td><td>end</td><td>14</td></tr><tr><td>Chris Wallace</td><td>election</td><td>13</td></tr><tr><td>President Donald J. Trump</td><td>people</td><td>50</td></tr><tr><td>President Donald J. Trump</td><td>want</td><td>37</td></tr><tr><td>President Donald J. Trump</td><td>going</td><td>34</td></tr><tr><td>President Donald J. Trump</td><td>do</td><td>33</td></tr><tr><td>President Donald J. Trump</td><td>said</td><td>30</td></tr><tr><td>President Donald J. Trump</td><td>know</td><td>29</td></tr><tr><td>President Donald J. Trump</td><td>had</td><td>27</td></tr><tr><td>President Donald J. Trump</td><td>got</td><td>27</td></tr><tr><td>President Donald J. Trump</td><td>look</td><td>25</td></tr><tr><td>President Donald J. Trump</td><td>think</td><td>22</td></tr><tr><td>President Donald J. Trump</td><td>done</td><td>19</td></tr><tr><td>President Donald J. Trump</td><td>say</td><td>18</td></tr><tr><td>President Donald J. Trump</td><td>tell</td><td>17</td></tr><tr><td>President Donald J. Trump</td><td>million</td><td>16</td></tr><tr><td>President Donald J. Trump</td><td>never</td><td>16</td></tr><tr><td>President Donald J. Trump</td><td>three</td><td>16</td></tr><tr><td>President Donald J. Trump</td><td>law</td><td>15</td></tr><tr><td>President Donald J. Trump</td><td>will</td><td>15</td></tr><tr><td>President Donald J. Trump</td><td>let</td><td>15</td></tr><tr><td>President Donald J. Trump</td><td>go</td><td>14</td></tr><tr><td>Vice President Joe Biden</td><td>people</td><td>61</td></tr><tr><td>Vice President Joe Biden</td><td>going</td><td>45</td></tr><tr><td>Vice President Joe Biden</td><td>has</td><td>24</td></tr><tr><td>Vice President Joe Biden</td><td>get</td><td>23</td></tr><tr><td>Vice President Joe Biden</td><td>do</td><td>23</td></tr><tr><td>Vice President Joe Biden</td><td>fact</td><td>19</td></tr><tr><td>Vice President Joe Biden</td><td>number</td><td>18</td></tr><tr><td>Vice President Joe Biden</td><td>take</td><td>17</td></tr><tr><td>Vice President Joe Biden</td><td>can</td><td>16</td></tr><tr><td>Vice President Joe Biden</td><td>way</td><td>15</td></tr><tr><td>Vice President Joe Biden</td><td>make</td><td>15</td></tr><tr><td>Vice President Joe Biden</td><td>tax</td><td>15</td></tr><tr><td>Vice President Joe Biden</td><td>look</td><td>14</td></tr><tr><td>Vice President Joe Biden</td><td>will</td><td>13</td></tr><tr><td>Vice President Joe Biden</td><td>got</td><td>13</td></tr><tr><td>Vice President Joe Biden</td><td>know</td><td>13</td></tr><tr><td>Vice President Joe Biden</td><td>want</td><td>13</td></tr><tr><td>Vice President Joe Biden</td><td>sure</td><td>12</td></tr><tr><td>Vice President Joe Biden</td><td>american</td><td>12</td></tr><tr><td>Vice President Joe Biden</td><td>now</td><td>12</td></tr></tbody></table></div>"
      ]
     },
     "metadata": {
      "application/vnd.databricks.v1+output": {
       "addedWidgets": {},
       "aggData": [],
       "aggError": "",
       "aggOverflow": false,
       "aggSchema": [],
       "aggSeriesLimitReached": false,
       "aggType": "",
       "arguments": {},
       "columnCustomDisplayInfos": {},
       "data": [
        [
         "Chris Wallace",
         "president",
         73
        ],
        [
         "Chris Wallace",
         "going",
         63
        ],
        [
         "Chris Wallace",
         "vice",
         37
        ],
        [
         "Chris Wallace",
         "go",
         34
        ],
        [
         "Chris Wallace",
         "do",
         31
        ],
        [
         "Chris Wallace",
         "donald",
         30
        ],
        [
         "Chris Wallace",
         "two",
         28
        ],
        [
         "Chris Wallace",
         "want",
         27
        ],
        [
         "Chris Wallace",
         "will",
         27
        ],
        [
         "Chris Wallace",
         "let",
         24
        ],
        [
         "Chris Wallace",
         "people",
         22
        ],
        [
         "Chris Wallace",
         "question",
         22
        ],
        [
         "Chris Wallace",
         "ballots",
         18
        ],
        [
         "Chris Wallace",
         "say",
         17
        ],
        [
         "Chris Wallace",
         "or",
         16
        ],
        [
         "Chris Wallace",
         "has",
         15
        ],
        [
         "Chris Wallace",
         "can",
         14
        ],
        [
         "Chris Wallace",
         "think",
         14
        ],
        [
         "Chris Wallace",
         "end",
         14
        ],
        [
         "Chris Wallace",
         "election",
         13
        ],
        [
         "President Donald J. Trump",
         "people",
         50
        ],
        [
         "President Donald J. Trump",
         "want",
         37
        ],
        [
         "President Donald J. Trump",
         "going",
         34
        ],
        [
         "President Donald J. Trump",
         "do",
         33
        ],
        [
         "President Donald J. Trump",
         "said",
         30
        ],
        [
         "President Donald J. Trump",
         "know",
         29
        ],
        [
         "President Donald J. Trump",
         "had",
         27
        ],
        [
         "President Donald J. Trump",
         "got",
         27
        ],
        [
         "President Donald J. Trump",
         "look",
         25
        ],
        [
         "President Donald J. Trump",
         "think",
         22
        ],
        [
         "President Donald J. Trump",
         "done",
         19
        ],
        [
         "President Donald J. Trump",
         "say",
         18
        ],
        [
         "President Donald J. Trump",
         "tell",
         17
        ],
        [
         "President Donald J. Trump",
         "million",
         16
        ],
        [
         "President Donald J. Trump",
         "never",
         16
        ],
        [
         "President Donald J. Trump",
         "three",
         16
        ],
        [
         "President Donald J. Trump",
         "law",
         15
        ],
        [
         "President Donald J. Trump",
         "will",
         15
        ],
        [
         "President Donald J. Trump",
         "let",
         15
        ],
        [
         "President Donald J. Trump",
         "go",
         14
        ],
        [
         "Vice President Joe Biden",
         "people",
         61
        ],
        [
         "Vice President Joe Biden",
         "going",
         45
        ],
        [
         "Vice President Joe Biden",
         "has",
         24
        ],
        [
         "Vice President Joe Biden",
         "get",
         23
        ],
        [
         "Vice President Joe Biden",
         "do",
         23
        ],
        [
         "Vice President Joe Biden",
         "fact",
         19
        ],
        [
         "Vice President Joe Biden",
         "number",
         18
        ],
        [
         "Vice President Joe Biden",
         "take",
         17
        ],
        [
         "Vice President Joe Biden",
         "can",
         16
        ],
        [
         "Vice President Joe Biden",
         "way",
         15
        ],
        [
         "Vice President Joe Biden",
         "make",
         15
        ],
        [
         "Vice President Joe Biden",
         "tax",
         15
        ],
        [
         "Vice President Joe Biden",
         "look",
         14
        ],
        [
         "Vice President Joe Biden",
         "will",
         13
        ],
        [
         "Vice President Joe Biden",
         "got",
         13
        ],
        [
         "Vice President Joe Biden",
         "know",
         13
        ],
        [
         "Vice President Joe Biden",
         "want",
         13
        ],
        [
         "Vice President Joe Biden",
         "sure",
         12
        ],
        [
         "Vice President Joe Biden",
         "american",
         12
        ],
        [
         "Vice President Joe Biden",
         "now",
         12
        ]
       ],
       "datasetInfos": [],
       "dbfsResultPath": null,
       "isJsonSchema": true,
       "metadata": {},
       "overflow": false,
       "plotOptions": {
        "customPlotOptions": {},
        "displayType": "table",
        "pivotAggregation": null,
        "pivotColumns": null,
        "xColumns": null,
        "yColumns": null
       },
       "removedWidgets": [],
       "schema": [
        {
         "metadata": "{}",
         "name": "speaker",
         "type": "\"string\""
        },
        {
         "metadata": "{}",
         "name": "word",
         "type": "\"string\""
        },
        {
         "metadata": "{}",
         "name": "count",
         "type": "\"long\""
        }
       ],
       "type": "table"
      }
     },
     "output_type": "display_data"
    }
   ],
   "source": [
    "display(df)"
   ]
  }
 ],
 "metadata": {
  "application/vnd.databricks.v1+notebook": {
   "computePreferences": null,
   "dashboards": [],
   "environmentMetadata": {
    "base_environment": "",
    "environment_version": "1"
   },
   "inputWidgetPreferences": null,
   "language": "python",
   "notebookMetadata": {
    "pythonIndentUnit": 4
   },
   "notebookName": "2020s EEUU Presidential Debates",
   "widgets": {}
  }
 },
 "nbformat": 4,
 "nbformat_minor": 0
}